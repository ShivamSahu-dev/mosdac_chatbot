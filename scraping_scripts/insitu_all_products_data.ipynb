{
 "cells": [
  {
   "cell_type": "code",
   "execution_count": null,
   "id": "2be323c4",
   "metadata": {},
   "outputs": [],
   "source": [
    "\n",
    "import pandas as pd\n",
    "from mosdac_utils import make_all_products_dataframe"
   ]
  },
  {
   "cell_type": "code",
   "execution_count": 2,
   "id": "20a76888",
   "metadata": {},
   "outputs": [],
   "source": [
    "df = pd.read_csv(r\"C:\\Users\\WELCOME\\Desktop\\mosdac\\raw_data\\insitu_data.csv\")"
   ]
  },
  {
   "cell_type": "code",
   "execution_count": 3,
   "id": "f35c047f",
   "metadata": {},
   "outputs": [
    {
     "name": "stdout",
     "output_type": "stream",
     "text": [
      "Sending request...\n",
      "Status Code: 200\n",
      "Data received.\n",
      "No data for satellite_id: 9999 & sensor_id: 8\n",
      "dataFrame is None for satellite_id: 9999 , sensor_id:8\n",
      "skipping this sensor\n",
      "Sending request...\n",
      "Status Code: 200\n",
      "Data received.\n",
      "No data for satellite_id: 9999 & sensor_id: 2\n",
      "dataFrame is None for satellite_id: 9999 , sensor_id:2\n",
      "skipping this sensor\n",
      "Sending request...\n",
      "Status Code: 200\n",
      "Data received.\n",
      "No data for satellite_id: 9999 & sensor_id: 4\n",
      "dataFrame is None for satellite_id: 9999 , sensor_id:4\n",
      "skipping this sensor\n",
      "Sending request...\n",
      "Status Code: 200\n",
      "Data received.\n",
      "No data for satellite_id: 9999 & sensor_id: 21\n",
      "dataFrame is None for satellite_id: 9999 , sensor_id:21\n",
      "skipping this sensor\n",
      "Sending request...\n",
      "Status Code: 200\n",
      "Data received.\n",
      "No data for satellite_id: 9999 & sensor_id: 10\n",
      "dataFrame is None for satellite_id: 9999 , sensor_id:10\n",
      "skipping this sensor\n",
      "No product data found. Returning empty DataFrame.\n"
     ]
    }
   ],
   "source": [
    "final_df = make_all_products_dataframe(satelite_sensors_df=df)"
   ]
  },
  {
   "cell_type": "code",
   "execution_count": 4,
   "id": "f9c55815",
   "metadata": {},
   "outputs": [],
   "source": [
    "final_df.to_csv(r\"C:\\Users\\WELCOME\\Desktop\\mosdac\\raw_data\\insitu_all_products_data.csv\",index=False)"
   ]
  },
  {
   "cell_type": "code",
   "execution_count": null,
   "id": "226b14df",
   "metadata": {},
   "outputs": [],
   "source": []
  }
 ],
 "metadata": {
  "kernelspec": {
   "display_name": "mosdac",
   "language": "python",
   "name": "python3"
  },
  "language_info": {
   "codemirror_mode": {
    "name": "ipython",
    "version": 3
   },
   "file_extension": ".py",
   "mimetype": "text/x-python",
   "name": "python",
   "nbconvert_exporter": "python",
   "pygments_lexer": "ipython3",
   "version": "3.13.5"
  }
 },
 "nbformat": 4,
 "nbformat_minor": 5
}
