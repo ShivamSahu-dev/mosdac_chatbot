{
 "cells": [
  {
   "cell_type": "code",
   "execution_count": 2,
   "id": "6444e8a0",
   "metadata": {
    "scrolled": true
   },
   "outputs": [],
   "source": [
    "import sys\n",
    "import os \n",
    "# Add the mosdac folder to sys.path\n",
    "mosdac_path = os.path.abspath(os.path.join(\"..\"))\n",
    "sys.path.append(mosdac_path)\n",
    "\n",
    "from mosdac_utils import rss_scraper"
   ]
  },
  {
   "cell_type": "code",
   "execution_count": 3,
   "id": "d326ee21",
   "metadata": {},
   "outputs": [],
   "source": [
    "urls = {\n",
    "    \"SCATSAT-1\": \"https://www.mosdac.gov.in/isrocast.xml\",\n",
    "    \"INSAT3D-Image\": \"https://mosdac.gov.in/3dimager.xml\",\n",
    "    \"INSAT3D-Sounder\": \"https://mosdac.gov.in/3dsounder.xml\",\n",
    "    \"INSAT3DR-Imager\": \"https://mosdac.gov.in/3drimager.xml\",\n",
    "    \"INSAT3DR-Sounder\": \"https://mosdac.gov.in/3drsounder.xml\"\n",
    "}"
   ]
  },
  {
   "cell_type": "code",
   "execution_count": 4,
   "id": "96ef219e",
   "metadata": {},
   "outputs": [
    {
     "name": "stdout",
     "output_type": "stream",
     "text": [
      "scraping rss data for satelltie: SCATSAT-1\n",
      "df sucessfully created.\n",
      "scraping rss data for satelltie: INSAT3D-Image\n",
      "df sucessfully created.\n",
      "scraping rss data for satelltie: INSAT3D-Sounder\n",
      "df sucessfully created.\n",
      "scraping rss data for satelltie: INSAT3DR-Imager\n",
      "df sucessfully created.\n",
      "scraping rss data for satelltie: INSAT3DR-Sounder\n",
      "df sucessfully created.\n"
     ]
    }
   ],
   "source": [
    "\n",
    "for name, url in urls.items():\n",
    "    print(f\"scraping rss data for satelltie: {name}\")\n",
    "    df = rss_scraper(url)\n",
    "    df.to_csv(f\"C:\\\\Users\\\\WELCOME\\\\Desktop\\\\mosdac\\\\raw_data\\\\{name}_RSS_Feed.csv\", index=False)\n",
    "    \n"
   ]
  },
  {
   "cell_type": "code",
   "execution_count": null,
   "id": "dd225faf",
   "metadata": {},
   "outputs": [
    {
     "data": {
      "text/plain": [
       "product_id     25\n",
       "title          25\n",
       "description    25\n",
       "pub_date       25\n",
       "acq_start      25\n",
       "preview_url    25\n",
       "link           25\n",
       "bbox_lower     25\n",
       "bbox_upper     25\n",
       "dtype: int64"
      ]
     },
     "execution_count": 8,
     "metadata": {},
     "output_type": "execute_result"
    }
   ],
   "source": []
  },
  {
   "cell_type": "code",
   "execution_count": null,
   "id": "06a271e8",
   "metadata": {},
   "outputs": [],
   "source": []
  }
 ],
 "metadata": {
  "kernelspec": {
   "display_name": "Python 3 (ipykernel)",
   "language": "python",
   "name": "python3"
  },
  "language_info": {
   "codemirror_mode": {
    "name": "ipython",
    "version": 3
   },
   "file_extension": ".py",
   "mimetype": "text/x-python",
   "name": "python",
   "nbconvert_exporter": "python",
   "pygments_lexer": "ipython3",
   "version": "3.13.5"
  }
 },
 "nbformat": 4,
 "nbformat_minor": 5
}
