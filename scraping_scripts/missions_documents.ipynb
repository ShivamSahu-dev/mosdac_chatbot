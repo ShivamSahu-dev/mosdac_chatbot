{
 "cells": [
  {
   "cell_type": "code",
   "execution_count": null,
   "id": "c41c5945",
   "metadata": {},
   "outputs": [],
   "source": [
    "from bs4 import BeautifulSoup\n",
    "import json\n",
    "import requests\n",
    "import re"
   ]
  },
  {
   "cell_type": "code",
   "execution_count": 6,
   "id": "691fb106",
   "metadata": {},
   "outputs": [],
   "source": [
    "urls = [\"https://www.mosdac.gov.in/saral-references\", \"https://www.mosdac.gov.in/oceansat3-references\", \"https://www.mosdac.gov.in/insat-3s-references\"]"
   ]
  },
  {
   "cell_type": "code",
   "execution_count": 7,
   "id": "2529ef18",
   "metadata": {},
   "outputs": [],
   "source": [
    "def process_data(docs,h1):\n",
    "        \n",
    "        all_data = []\n",
    "\n",
    "        for p in docs:\n",
    "            a_tag = p.find(\"a\")\n",
    "            span_tag = p.find(\"span\")\n",
    "\n",
    "            if not a_tag or not span_tag:\n",
    "                continue  # skip broken entries\n",
    "\n",
    "            url = \"https://www.mosdac.gov.in\" + a_tag[\"href\"]\n",
    "            title = a_tag.get_text(strip=True)\n",
    "\n",
    "            # normalize and extract info\n",
    "            info_text = span_tag.get_text(strip=True)\n",
    "\n",
    "            size_match = re.search(r\"Size\\s*:\\s*([\\d.]+\\s*\\w+)\", info_text, re.I)\n",
    "            format_match = re.search(r\"Format\\s*:\\s*(\\w+)\", info_text, re.I)\n",
    "            tool_match = re.search(r\"Tool\\s*:\\s*(\\w+)\", info_text, re.I)\n",
    "\n",
    "            size = size_match.group(1) if size_match else None\n",
    "            format_ = format_match.group(1) if format_match else None\n",
    "            tool = tool_match.group(1) if tool_match else None\n",
    "\n",
    "            data = {\n",
    "                \"title\": title,\n",
    "                \"url\": url,\n",
    "                \"size\": size,\n",
    "                \"format\": format_,\n",
    "                \"tool\": tool\n",
    "            }\n",
    "\n",
    "            all_data.append(data)\n",
    "\n",
    "        with open(f\"C:/Users/WELCOME/Desktop/mosdac/missions_data/{h1}.json\", \"w\", encoding=\"utf-8\") as f:\n",
    "            json.dump(all_data, f, ensure_ascii=False, indent=4)\n"
   ]
  },
  {
   "cell_type": "code",
   "execution_count": null,
   "id": "3584c08b",
   "metadata": {},
   "outputs": [],
   "source": [
    "for url in urls:\n",
    "    response = requests.get(url)\n",
    "    if response.status_code != 200:\n",
    "        print(f\"Error {response.status_code}: {url}\")\n",
    "        print(\"its likely it doesnt have a document section.\")\n",
    "        continue\n",
    "\n",
    "    print(f\"sucessful: {response.status_code}: {url}\")\n",
    "    \n",
    "    soup = BeautifulSoup(response.text, \"html.parser\")\n",
    "    h1 = soup.find(\"h1\").get_text(strip=True).replace(\" \",\"-\")\n",
    "    docs = soup.find(\"div\", class_=\"field-item even\").find_all(\"p\")\n",
    "    process_data(docs,h1)\n",
    "    "
   ]
  },
  {
   "cell_type": "code",
   "execution_count": null,
   "id": "71bd60c2",
   "metadata": {},
   "outputs": [],
   "source": []
  }
 ],
 "metadata": {
  "kernelspec": {
   "display_name": "mosdac",
   "language": "python",
   "name": "python3"
  },
  "language_info": {
   "codemirror_mode": {
    "name": "ipython",
    "version": 3
   },
   "file_extension": ".py",
   "mimetype": "text/x-python",
   "name": "python",
   "nbconvert_exporter": "python",
   "pygments_lexer": "ipython3",
   "version": "3.13.5"
  }
 },
 "nbformat": 4,
 "nbformat_minor": 5
}
