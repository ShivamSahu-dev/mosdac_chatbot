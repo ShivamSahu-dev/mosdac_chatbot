{
 "cells": [
  {
   "cell_type": "code",
   "execution_count": 41,
   "id": "a829aae2",
   "metadata": {},
   "outputs": [],
   "source": [
    "import requests\n",
    "from bs4 import BeautifulSoup\n",
    "import json"
   ]
  },
  {
   "cell_type": "code",
   "execution_count": null,
   "id": "4e7ca26f",
   "metadata": {},
   "outputs": [],
   "source": [
    "url = \"https://mosdac.gov.in/faq-page\"\n",
    "response = requests.get(url)\n",
    "soup = BeautifulSoup(response.text, \"html.parser\")"
   ]
  },
  {
   "cell_type": "code",
   "execution_count": null,
   "id": "f64e5d52",
   "metadata": {},
   "outputs": [],
   "source": [
    "faq_list = []\n",
    "faq_blocks = soup.select(\"div.faq-question-answer\")\n",
    "\n",
    "for block in faq_blocks:\n",
    "    q_tag = block.select_one(\"div.faq-question a\")\n",
    "    a_tag = block.select_one(\"div.faq-answer div.field-item.even\")\n",
    "\n",
    "    if q_tag and a_tag:\n",
    "        question = q_tag.get_text(strip=True)\n",
    "        answer = a_tag.get_text(\" \", strip=True)\n",
    "\n",
    "        if question and answer:  # skips empty\n",
    "            faq_list.append({\"question\": question, \"answer\": answer})\n"
   ]
  },
  {
   "cell_type": "code",
   "execution_count": 37,
   "id": "f4559722",
   "metadata": {},
   "outputs": [
    {
     "data": {
      "text/plain": [
       "17"
      ]
     },
     "execution_count": 37,
     "metadata": {},
     "output_type": "execute_result"
    }
   ],
   "source": [
    "len(faq_list)"
   ]
  },
  {
   "cell_type": "code",
   "execution_count": 42,
   "id": "744f6e6a",
   "metadata": {},
   "outputs": [],
   "source": [
    "with open(r\"C:\\Users\\WELCOME\\Desktop\\mosdac\\raw_data\\faqs.json\", \"w\", encoding=\"utf-8\") as f:\n",
    "    json.dump(faq_list, f, ensure_ascii=False, indent=4)\n"
   ]
  }
 ],
 "metadata": {
  "kernelspec": {
   "display_name": "mosdac",
   "language": "python",
   "name": "python3"
  },
  "language_info": {
   "codemirror_mode": {
    "name": "ipython",
    "version": 3
   },
   "file_extension": ".py",
   "mimetype": "text/x-python",
   "name": "python",
   "nbconvert_exporter": "python",
   "pygments_lexer": "ipython3",
   "version": "3.13.5"
  }
 },
 "nbformat": 4,
 "nbformat_minor": 5
}
