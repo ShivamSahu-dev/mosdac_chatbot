{
 "cells": [
  {
   "cell_type": "code",
   "execution_count": null,
   "id": "cc600ee9",
   "metadata": {},
   "outputs": [],
   "source": [
    "\n",
    "\n",
    "import pandas as pd\n",
    "from mosdac_utils import fetch_satellite_data, process_satellite_sensors_data"
   ]
  },
  {
   "cell_type": "code",
   "execution_count": 2,
   "id": "c4133d6b",
   "metadata": {},
   "outputs": [],
   "source": [
    "payload = {\n",
    "    \"current\": \"A\",\n",
    "    \"dstype\": \"R\"\n",
    "}"
   ]
  },
  {
   "cell_type": "code",
   "execution_count": 8,
   "id": "32ca54cb",
   "metadata": {},
   "outputs": [
    {
     "name": "stdout",
     "output_type": "stream",
     "text": [
      "Sending request...\n",
      "Status Code: 200\n",
      "Data received.\n"
     ]
    }
   ],
   "source": [
    "data = fetch_satellite_data(payload)"
   ]
  },
  {
   "cell_type": "code",
   "execution_count": 4,
   "id": "7153726c",
   "metadata": {},
   "outputs": [
    {
     "data": {
      "text/plain": [
       "[[{'name': 'RADAR', 'id': '20'}],\n",
       " [{'name': 'S BAND DWR CHERRAPUNJI', 'id': '14'},\n",
       "  {'name': 'S BAND DWR SHAR', 'id': '13'},\n",
       "  {'name': 'TERLS C BAND', 'id': '12'}]]"
      ]
     },
     "execution_count": 4,
     "metadata": {},
     "output_type": "execute_result"
    }
   ],
   "source": [
    "data"
   ]
  },
  {
   "cell_type": "code",
   "execution_count": 5,
   "id": "1a562962",
   "metadata": {},
   "outputs": [],
   "source": [
    "for i in data[0]:\n",
    "    satellite_name = i[\"name\"]\n",
    "    satellite_id = i[\"id\"]\n",
    "\n",
    "df = process_satellite_sensors_data(satellite_name, satellite_id, data=data[1])\n"
   ]
  },
  {
   "cell_type": "code",
   "execution_count": 6,
   "id": "828d05e1",
   "metadata": {},
   "outputs": [
    {
     "data": {
      "text/html": [
       "<div>\n",
       "<style scoped>\n",
       "    .dataframe tbody tr th:only-of-type {\n",
       "        vertical-align: middle;\n",
       "    }\n",
       "\n",
       "    .dataframe tbody tr th {\n",
       "        vertical-align: top;\n",
       "    }\n",
       "\n",
       "    .dataframe thead th {\n",
       "        text-align: right;\n",
       "    }\n",
       "</style>\n",
       "<table border=\"1\" class=\"dataframe\">\n",
       "  <thead>\n",
       "    <tr style=\"text-align: right;\">\n",
       "      <th></th>\n",
       "      <th>satellite_name</th>\n",
       "      <th>satellite_id</th>\n",
       "      <th>sensor_name</th>\n",
       "      <th>sensor_id</th>\n",
       "    </tr>\n",
       "  </thead>\n",
       "  <tbody>\n",
       "    <tr>\n",
       "      <th>0</th>\n",
       "      <td>RADAR</td>\n",
       "      <td>20</td>\n",
       "      <td>S BAND DWR CHERRAPUNJI</td>\n",
       "      <td>14</td>\n",
       "    </tr>\n",
       "    <tr>\n",
       "      <th>1</th>\n",
       "      <td>RADAR</td>\n",
       "      <td>20</td>\n",
       "      <td>S BAND DWR SHAR</td>\n",
       "      <td>13</td>\n",
       "    </tr>\n",
       "    <tr>\n",
       "      <th>2</th>\n",
       "      <td>RADAR</td>\n",
       "      <td>20</td>\n",
       "      <td>TERLS C BAND</td>\n",
       "      <td>12</td>\n",
       "    </tr>\n",
       "  </tbody>\n",
       "</table>\n",
       "</div>"
      ],
      "text/plain": [
       "  satellite_name satellite_id             sensor_name sensor_id\n",
       "0          RADAR           20  S BAND DWR CHERRAPUNJI        14\n",
       "1          RADAR           20         S BAND DWR SHAR        13\n",
       "2          RADAR           20            TERLS C BAND        12"
      ]
     },
     "execution_count": 6,
     "metadata": {},
     "output_type": "execute_result"
    }
   ],
   "source": [
    "df"
   ]
  },
  {
   "cell_type": "code",
   "execution_count": 7,
   "id": "b4a9d6c3",
   "metadata": {},
   "outputs": [],
   "source": [
    "df.to_csv(r\"C:\\Users\\WELCOME\\Desktop\\mosdac\\raw_data\\radar_data.csv\", index=False)"
   ]
  },
  {
   "cell_type": "code",
   "execution_count": null,
   "id": "5f4bc083",
   "metadata": {},
   "outputs": [],
   "source": []
  }
 ],
 "metadata": {
  "kernelspec": {
   "display_name": "mosdac",
   "language": "python",
   "name": "python3"
  },
  "language_info": {
   "codemirror_mode": {
    "name": "ipython",
    "version": 3
   },
   "file_extension": ".py",
   "mimetype": "text/x-python",
   "name": "python",
   "nbconvert_exporter": "python",
   "pygments_lexer": "ipython3",
   "version": "3.13.5"
  }
 },
 "nbformat": 4,
 "nbformat_minor": 5
}
