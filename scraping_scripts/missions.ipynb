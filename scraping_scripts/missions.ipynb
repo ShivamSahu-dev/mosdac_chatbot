{
 "cells": [
  {
   "cell_type": "markdown",
   "id": "7cc98e87",
   "metadata": {},
   "source": [
    "## Scraping catalog/Missions all satellite name and urls\n"
   ]
  },
  {
   "cell_type": "code",
   "execution_count": 1,
   "id": "6ae1196b",
   "metadata": {},
   "outputs": [],
   "source": [
    "from bs4 import BeautifulSoup\n",
    "import requests\n",
    "import pandas as pd"
   ]
  },
  {
   "cell_type": "code",
   "execution_count": 2,
   "id": "dfed0fe8",
   "metadata": {},
   "outputs": [],
   "source": [
    "url = \"https://www.mosdac.gov.in/\"\n",
    "\n",
    "response = requests.get(url)\n",
    "html_content = response.text"
   ]
  },
  {
   "cell_type": "code",
   "execution_count": 3,
   "id": "0c42465a",
   "metadata": {},
   "outputs": [],
   "source": [
    "soup = BeautifulSoup(html_content,\"html.parser\")"
   ]
  },
  {
   "cell_type": "code",
   "execution_count": 4,
   "id": "dd6ec1a7",
   "metadata": {},
   "outputs": [],
   "source": [
    "missions_parent = soup.find(\"li\", id=\"menu-1427-1\")"
   ]
  },
  {
   "cell_type": "code",
   "execution_count": 9,
   "id": "c11a8021",
   "metadata": {},
   "outputs": [],
   "source": [
    "missions = []\n",
    "\n",
    "for i in missions_parent.select(\"li.sf-depth-2 a\"):\n",
    "    name = i.get_text(strip=True)\n",
    "    href = i.get(\"href\")\n",
    "    missions.append((name,\"https://www.mosdac.gov.in\"+href))"
   ]
  },
  {
   "cell_type": "code",
   "execution_count": 10,
   "id": "61fd5568",
   "metadata": {},
   "outputs": [],
   "source": [
    "df = pd.DataFrame(missions, columns=[\"name\",\"url\"])"
   ]
  },
  {
   "cell_type": "code",
   "execution_count": 11,
   "id": "987a2cbc",
   "metadata": {},
   "outputs": [],
   "source": [
    "df.to_csv(r\"C:\\Users\\WELCOME\\Desktop\\mosdac\\raw_data\\missions_name_url.csv\", index=False)"
   ]
  },
  {
   "cell_type": "code",
   "execution_count": null,
   "id": "296071d1",
   "metadata": {},
   "outputs": [],
   "source": []
  }
 ],
 "metadata": {
  "kernelspec": {
   "display_name": "mosdac",
   "language": "python",
   "name": "python3"
  },
  "language_info": {
   "codemirror_mode": {
    "name": "ipython",
    "version": 3
   },
   "file_extension": ".py",
   "mimetype": "text/x-python",
   "name": "python",
   "nbconvert_exporter": "python",
   "pygments_lexer": "ipython3",
   "version": "3.13.5"
  }
 },
 "nbformat": 4,
 "nbformat_minor": 5
}
