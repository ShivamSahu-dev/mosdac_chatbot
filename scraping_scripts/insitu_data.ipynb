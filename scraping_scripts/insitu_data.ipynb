{
 "cells": [
  {
   "cell_type": "code",
   "execution_count": null,
   "id": "cbac3cf8",
   "metadata": {},
   "outputs": [],
   "source": [
    "\n",
    "import pandas as pd\n",
    "from mosdac_utils import fetch_satellite_data, process_satellite_sensors_data"
   ]
  },
  {
   "cell_type": "code",
   "execution_count": 27,
   "id": "3941a24f",
   "metadata": {},
   "outputs": [],
   "source": [
    "payload = {\n",
    "    \"current\": \"I\",\n",
    "    \"dstype\": \"I\"\n",
    "}"
   ]
  },
  {
   "cell_type": "code",
   "execution_count": 28,
   "id": "4c79f079",
   "metadata": {},
   "outputs": [
    {
     "name": "stdout",
     "output_type": "stream",
     "text": [
      "Sending request...\n",
      "Status Code: 200\n",
      "Data received.\n"
     ]
    }
   ],
   "source": [
    "\n",
    "data = fetch_satellite_data(payload)"
   ]
  },
  {
   "cell_type": "code",
   "execution_count": 29,
   "id": "1f3db603",
   "metadata": {},
   "outputs": [
    {
     "data": {
      "text/plain": [
       "[[{'name': 'In-situ', 'id': '9999'}],\n",
       " [{'name': 'AMS', 'id': '8'},\n",
       "  {'name': 'AWS', 'id': '2'},\n",
       "  {'name': 'AWSAGRI', 'id': '4'},\n",
       "  {'name': 'AWSUPG', 'id': '21'},\n",
       "  {'name': 'IMDAWS', 'id': '10'}]]"
      ]
     },
     "execution_count": 29,
     "metadata": {},
     "output_type": "execute_result"
    }
   ],
   "source": [
    "data"
   ]
  },
  {
   "cell_type": "code",
   "execution_count": null,
   "id": "68244175",
   "metadata": {},
   "outputs": [],
   "source": [
    "\n",
    "for i in data[0]:\n",
    "    satellite_name = i[\"name\"]\n",
    "    satellite_id = i[\"id\"]\n",
    "\n",
    "df = process_satellite_sensors_data(satellite_name, satellite_id, data=data[1])\n"
   ]
  },
  {
   "cell_type": "code",
   "execution_count": 35,
   "id": "0ea571e0",
   "metadata": {},
   "outputs": [
    {
     "data": {
      "text/html": [
       "<div>\n",
       "<style scoped>\n",
       "    .dataframe tbody tr th:only-of-type {\n",
       "        vertical-align: middle;\n",
       "    }\n",
       "\n",
       "    .dataframe tbody tr th {\n",
       "        vertical-align: top;\n",
       "    }\n",
       "\n",
       "    .dataframe thead th {\n",
       "        text-align: right;\n",
       "    }\n",
       "</style>\n",
       "<table border=\"1\" class=\"dataframe\">\n",
       "  <thead>\n",
       "    <tr style=\"text-align: right;\">\n",
       "      <th></th>\n",
       "      <th>satellite_name</th>\n",
       "      <th>satellite_id</th>\n",
       "      <th>sensor_name</th>\n",
       "      <th>sensor_id</th>\n",
       "    </tr>\n",
       "  </thead>\n",
       "  <tbody>\n",
       "    <tr>\n",
       "      <th>0</th>\n",
       "      <td>In-situ</td>\n",
       "      <td>9999</td>\n",
       "      <td>AMS</td>\n",
       "      <td>8</td>\n",
       "    </tr>\n",
       "    <tr>\n",
       "      <th>1</th>\n",
       "      <td>In-situ</td>\n",
       "      <td>9999</td>\n",
       "      <td>AWS</td>\n",
       "      <td>2</td>\n",
       "    </tr>\n",
       "    <tr>\n",
       "      <th>2</th>\n",
       "      <td>In-situ</td>\n",
       "      <td>9999</td>\n",
       "      <td>AWSAGRI</td>\n",
       "      <td>4</td>\n",
       "    </tr>\n",
       "    <tr>\n",
       "      <th>3</th>\n",
       "      <td>In-situ</td>\n",
       "      <td>9999</td>\n",
       "      <td>AWSUPG</td>\n",
       "      <td>21</td>\n",
       "    </tr>\n",
       "    <tr>\n",
       "      <th>4</th>\n",
       "      <td>In-situ</td>\n",
       "      <td>9999</td>\n",
       "      <td>IMDAWS</td>\n",
       "      <td>10</td>\n",
       "    </tr>\n",
       "  </tbody>\n",
       "</table>\n",
       "</div>"
      ],
      "text/plain": [
       "  satellite_name satellite_id sensor_name sensor_id\n",
       "0        In-situ         9999         AMS         8\n",
       "1        In-situ         9999         AWS         2\n",
       "2        In-situ         9999     AWSAGRI         4\n",
       "3        In-situ         9999      AWSUPG        21\n",
       "4        In-situ         9999      IMDAWS        10"
      ]
     },
     "execution_count": 35,
     "metadata": {},
     "output_type": "execute_result"
    }
   ],
   "source": [
    "df"
   ]
  },
  {
   "cell_type": "code",
   "execution_count": 36,
   "id": "7f62cfd7",
   "metadata": {},
   "outputs": [],
   "source": [
    "df.to_csv(r\"C:\\Users\\WELCOME\\Desktop\\mosdac\\raw_data\\insitu_data.csv\", index=False)"
   ]
  },
  {
   "cell_type": "code",
   "execution_count": null,
   "id": "4fa92304",
   "metadata": {},
   "outputs": [],
   "source": []
  }
 ],
 "metadata": {
  "kernelspec": {
   "display_name": "mosdac",
   "language": "python",
   "name": "python3"
  },
  "language_info": {
   "codemirror_mode": {
    "name": "ipython",
    "version": 3
   },
   "file_extension": ".py",
   "mimetype": "text/x-python",
   "name": "python",
   "nbconvert_exporter": "python",
   "pygments_lexer": "ipython3",
   "version": "3.13.5"
  }
 },
 "nbformat": 4,
 "nbformat_minor": 5
}
