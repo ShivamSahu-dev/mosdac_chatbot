{
 "cells": [
  {
   "cell_type": "code",
   "execution_count": null,
   "id": "97af3837",
   "metadata": {},
   "outputs": [],
   "source": [
    "\n",
    "import pandas as pd\n",
    "from mosdac_utils import make_all_products_dataframe"
   ]
  },
  {
   "cell_type": "code",
   "execution_count": 2,
   "id": "207a1fc3",
   "metadata": {},
   "outputs": [],
   "source": [
    "df = pd.read_csv(r\"C:\\Users\\WELCOME\\Desktop\\mosdac\\raw_data\\radar_data.csv\")"
   ]
  },
  {
   "cell_type": "code",
   "execution_count": 3,
   "id": "a482193c",
   "metadata": {},
   "outputs": [
    {
     "name": "stdout",
     "output_type": "stream",
     "text": [
      "Sending request...\n",
      "Status Code: 200\n",
      "Data received.\n",
      "Sending request...\n",
      "Status Code: 200\n",
      "Data received.\n",
      "Sending request...\n",
      "Status Code: 200\n",
      "Data received.\n"
     ]
    }
   ],
   "source": [
    "final_df = make_all_products_dataframe(satelite_sensors_df=df)"
   ]
  },
  {
   "cell_type": "code",
   "execution_count": 4,
   "id": "05bb0ad2",
   "metadata": {},
   "outputs": [],
   "source": [
    "final_df.to_csv(r\"C:\\Users\\WELCOME\\Desktop\\mosdac\\raw_data\\radar_all_products_data.csv\",index=False)"
   ]
  },
  {
   "cell_type": "code",
   "execution_count": null,
   "id": "57b14ef0",
   "metadata": {},
   "outputs": [],
   "source": []
  }
 ],
 "metadata": {
  "kernelspec": {
   "display_name": "mosdac",
   "language": "python",
   "name": "python3"
  },
  "language_info": {
   "codemirror_mode": {
    "name": "ipython",
    "version": 3
   },
   "file_extension": ".py",
   "mimetype": "text/x-python",
   "name": "python",
   "nbconvert_exporter": "python",
   "pygments_lexer": "ipython3",
   "version": "3.13.5"
  }
 },
 "nbformat": 4,
 "nbformat_minor": 5
}
