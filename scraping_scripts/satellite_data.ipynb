{
 "cells": [
  {
   "cell_type": "code",
   "execution_count": null,
   "id": "60448744",
   "metadata": {},
   "outputs": [
    {
     "name": "stderr",
     "output_type": "stream",
     "text": [
      "c:\\Users\\WELCOME\\miniconda3\\envs\\mosdac\\Lib\\site-packages\\requests\\__init__.py:86: RequestsDependencyWarning: Unable to find acceptable character detection dependency (chardet or charset_normalizer).\n",
      "  warnings.warn(\n"
     ]
    }
   ],
   "source": [
    "\n",
    "\n",
    "import pandas as pd\n",
    "from mosdac_utils import fetch_satellite_data ,process_satellite_data"
   ]
  },
  {
   "cell_type": "code",
   "execution_count": 2,
   "id": "17bda26c",
   "metadata": {},
   "outputs": [],
   "source": [
    "\n",
    "payload = {\n",
    "    \"current\":\"A\",\n",
    "    \"dstype\":\"S\"\n",
    "    }"
   ]
  },
  {
   "cell_type": "markdown",
   "id": "0c9ebff1",
   "metadata": {},
   "source": [
    "## Getting the data"
   ]
  },
  {
   "cell_type": "code",
   "execution_count": 3,
   "id": "e39359d0",
   "metadata": {},
   "outputs": [
    {
     "name": "stdout",
     "output_type": "stream",
     "text": [
      "Sending request...\n",
      "Status Code: 200\n",
      "Data received.\n"
     ]
    }
   ],
   "source": [
    "data = fetch_satellite_data(payload=payload)"
   ]
  },
  {
   "cell_type": "code",
   "execution_count": 4,
   "id": "051d7e82",
   "metadata": {},
   "outputs": [
    {
     "data": {
      "text/plain": [
       "[[{'name': 'EOS-06', 'id': '22'},\n",
       "  {'name': 'INSAT-3DR', 'id': '14'},\n",
       "  {'name': 'INSAT-3DS', 'id': '24'},\n",
       "  {'name': 'MSG', 'id': '32'},\n",
       "  {'name': 'SARAL', 'id': '12'},\n",
       "  {'name': 'EOS-07', 'id': '23'},\n",
       "  {'name': 'INSAT-3A', 'id': '3'},\n",
       "  {'name': 'INSAT-3D', 'id': '13'},\n",
       "  {'name': 'KALPANA-1', 'id': '1'},\n",
       "  {'name': 'MEGHATROPIQUES', 'id': '11'},\n",
       "  {'name': 'OCEANSAT-2', 'id': '9'},\n",
       "  {'name': 'SCATSAT-1', 'id': '15'}],\n",
       " [{'name': 'OCM', 'id': '16'}, {'name': 'SCATTEROMETER', 'id': '4'}]]"
      ]
     },
     "execution_count": 4,
     "metadata": {},
     "output_type": "execute_result"
    }
   ],
   "source": [
    "data"
   ]
  },
  {
   "cell_type": "markdown",
   "id": "2ada7fec",
   "metadata": {},
   "source": [
    "## processing data"
   ]
  },
  {
   "cell_type": "code",
   "execution_count": null,
   "id": "41e4f3ba",
   "metadata": {},
   "outputs": [],
   "source": [
    "\n",
    "flattend_data = [item for sublist in data for item in sublist]\n",
    "df = pd.DataFrame(flattend_data)\n"
   ]
  },
  {
   "cell_type": "code",
   "execution_count": 6,
   "id": "56eeb026",
   "metadata": {},
   "outputs": [
    {
     "data": {
      "text/html": [
       "<div>\n",
       "<style scoped>\n",
       "    .dataframe tbody tr th:only-of-type {\n",
       "        vertical-align: middle;\n",
       "    }\n",
       "\n",
       "    .dataframe tbody tr th {\n",
       "        vertical-align: top;\n",
       "    }\n",
       "\n",
       "    .dataframe thead th {\n",
       "        text-align: right;\n",
       "    }\n",
       "</style>\n",
       "<table border=\"1\" class=\"dataframe\">\n",
       "  <thead>\n",
       "    <tr style=\"text-align: right;\">\n",
       "      <th></th>\n",
       "      <th>name</th>\n",
       "      <th>id</th>\n",
       "    </tr>\n",
       "  </thead>\n",
       "  <tbody>\n",
       "    <tr>\n",
       "      <th>0</th>\n",
       "      <td>EOS-06</td>\n",
       "      <td>22</td>\n",
       "    </tr>\n",
       "    <tr>\n",
       "      <th>1</th>\n",
       "      <td>INSAT-3DR</td>\n",
       "      <td>14</td>\n",
       "    </tr>\n",
       "    <tr>\n",
       "      <th>2</th>\n",
       "      <td>INSAT-3DS</td>\n",
       "      <td>24</td>\n",
       "    </tr>\n",
       "    <tr>\n",
       "      <th>3</th>\n",
       "      <td>MSG</td>\n",
       "      <td>32</td>\n",
       "    </tr>\n",
       "    <tr>\n",
       "      <th>4</th>\n",
       "      <td>SARAL</td>\n",
       "      <td>12</td>\n",
       "    </tr>\n",
       "    <tr>\n",
       "      <th>5</th>\n",
       "      <td>EOS-07</td>\n",
       "      <td>23</td>\n",
       "    </tr>\n",
       "    <tr>\n",
       "      <th>6</th>\n",
       "      <td>INSAT-3A</td>\n",
       "      <td>3</td>\n",
       "    </tr>\n",
       "    <tr>\n",
       "      <th>7</th>\n",
       "      <td>INSAT-3D</td>\n",
       "      <td>13</td>\n",
       "    </tr>\n",
       "    <tr>\n",
       "      <th>8</th>\n",
       "      <td>KALPANA-1</td>\n",
       "      <td>1</td>\n",
       "    </tr>\n",
       "    <tr>\n",
       "      <th>9</th>\n",
       "      <td>MEGHATROPIQUES</td>\n",
       "      <td>11</td>\n",
       "    </tr>\n",
       "    <tr>\n",
       "      <th>10</th>\n",
       "      <td>OCEANSAT-2</td>\n",
       "      <td>9</td>\n",
       "    </tr>\n",
       "    <tr>\n",
       "      <th>11</th>\n",
       "      <td>SCATSAT-1</td>\n",
       "      <td>15</td>\n",
       "    </tr>\n",
       "    <tr>\n",
       "      <th>12</th>\n",
       "      <td>OCM</td>\n",
       "      <td>16</td>\n",
       "    </tr>\n",
       "    <tr>\n",
       "      <th>13</th>\n",
       "      <td>SCATTEROMETER</td>\n",
       "      <td>4</td>\n",
       "    </tr>\n",
       "  </tbody>\n",
       "</table>\n",
       "</div>"
      ],
      "text/plain": [
       "              name  id\n",
       "0           EOS-06  22\n",
       "1        INSAT-3DR  14\n",
       "2        INSAT-3DS  24\n",
       "3              MSG  32\n",
       "4            SARAL  12\n",
       "5           EOS-07  23\n",
       "6         INSAT-3A   3\n",
       "7         INSAT-3D  13\n",
       "8        KALPANA-1   1\n",
       "9   MEGHATROPIQUES  11\n",
       "10      OCEANSAT-2   9\n",
       "11       SCATSAT-1  15\n",
       "12             OCM  16\n",
       "13   SCATTEROMETER   4"
      ]
     },
     "execution_count": 6,
     "metadata": {},
     "output_type": "execute_result"
    }
   ],
   "source": [
    "df"
   ]
  },
  {
   "cell_type": "markdown",
   "id": "7ca26e08",
   "metadata": {},
   "source": [
    "## Saving df to a csv file"
   ]
  },
  {
   "cell_type": "code",
   "execution_count": 8,
   "id": "3888974b",
   "metadata": {},
   "outputs": [],
   "source": [
    "df.to_csv(r\"C:\\Users\\WELCOME\\Desktop\\mosdac\\raw_data\\satellite_ids.csv\", index=False)"
   ]
  },
  {
   "cell_type": "code",
   "execution_count": null,
   "id": "365b4c1b",
   "metadata": {},
   "outputs": [],
   "source": []
  }
 ],
 "metadata": {
  "kernelspec": {
   "display_name": "mosdac",
   "language": "python",
   "name": "python3"
  },
  "language_info": {
   "codemirror_mode": {
    "name": "ipython",
    "version": 3
   },
   "file_extension": ".py",
   "mimetype": "text/x-python",
   "name": "python",
   "nbconvert_exporter": "python",
   "pygments_lexer": "ipython3",
   "version": "3.11.13"
  }
 },
 "nbformat": 4,
 "nbformat_minor": 5
}
